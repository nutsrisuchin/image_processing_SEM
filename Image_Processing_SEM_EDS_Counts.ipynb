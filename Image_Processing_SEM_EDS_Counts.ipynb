{
  "nbformat": 4,
  "nbformat_minor": 0,
  "metadata": {
    "colab": {
      "provenance": []
    },
    "kernelspec": {
      "name": "python3",
      "display_name": "Python 3"
    },
    "language_info": {
      "name": "python"
    }
  },
  "cells": [
    {
      "cell_type": "code",
      "source": [
        "from google.colab import drive\n",
        "drive.mount('/content/drive')"
      ],
      "metadata": {
        "colab": {
          "base_uri": "https://localhost:8080/"
        },
        "id": "T5IRO7EBNEQt",
        "outputId": "60253c68-061a-4ba6-c56d-d9d69c7f03c4"
      },
      "execution_count": null,
      "outputs": [
        {
          "output_type": "stream",
          "name": "stdout",
          "text": [
            "Drive already mounted at /content/drive; to attempt to forcibly remount, call drive.mount(\"/content/drive\", force_remount=True).\n"
          ]
        }
      ]
    },
    {
      "cell_type": "code",
      "source": [
        "import numpy as np\n",
        "import cv2"
      ],
      "metadata": {
        "id": "kW4g5CvOJKOb"
      },
      "execution_count": null,
      "outputs": []
    },
    {
      "cell_type": "code",
      "source": [
        "from google.colab.patches import cv2_imshow\n",
        "\n",
        "def count_circles(image_path):\n",
        "  \"\"\"\n",
        "  Counts circle-like objects in a grayscale image and generates an output\n",
        "  image with the detected circles visualized.\n",
        "\n",
        "  Args:\n",
        "      image_path: Path to the grayscale image file.\n",
        "\n",
        "  Returns:\n",
        "      The number of circle-like objects detected in the image.\n",
        "  \"\"\"\n",
        "  # Read the image in grayscale\n",
        "  img = cv2.imread(image_path, cv2.IMREAD_GRAYSCALE)\n",
        "\n",
        "  # Apply blur to reduce noise\n",
        "  blurred_img = cv2.GaussianBlur(img, (5, 5), 0)\n",
        "\n",
        "  # Apply thresholding to convert the image to binary\n",
        "  thresh = cv2.threshold(blurred_img, 127, 255, cv2.THRESH_BINARY)[1]\n",
        "\n",
        "  # Find contours in the thresholded image\n",
        "  contours, _ = cv2.findContours(thresh, cv2.RETR_EXTERNAL, cv2.CHAIN_APPROX_SIMPLE)\n",
        "\n",
        "  # Initialize the count of circles\n",
        "  count = 0\n",
        "\n",
        "  # Load the original image for visualization\n",
        "  output_img = cv2.imread(image_path)\n",
        "\n",
        "  for cnt in contours:\n",
        "    # Approximate the contour with a circle\n",
        "    (x, y), radius = cv2.minEnclosingCircle(cnt)\n",
        "    center = (int(x), int(y))\n",
        "    radius = int(radius)\n",
        "\n",
        "    # Calculate width and height\n",
        "    w = radius * 2\n",
        "    h = radius * 2\n",
        "\n",
        "    # Prevent division by zero\n",
        "    if h == 0:\n",
        "      continue\n",
        "\n",
        "    # Check if contour is circular enough\n",
        "    aspect_ratio = abs(1 - float(w) / h)\n",
        "    if aspect_ratio < 0.2:\n",
        "      # Draw circle on the output image\n",
        "      cv2.circle(output_img, center, radius, (0, 255, 0), 2)\n",
        "      count += 1\n",
        "\n",
        "  # Save the output image\n",
        "  cv2.imwrite(\"output_image.jpg\", output_img)\n",
        "\n",
        "  return count\n",
        "\n",
        "# Example usage\n",
        "image_path = \"/content/drive/MyDrive/Image Processing - Researcher/SEM_contrast/500x-2.jpg\"  # Replace with your image path\n",
        "number_of_circles = count_circles(image_path)\n",
        "\n",
        "print(f\"Number of circle-like objects detected: {number_of_circles}\")\n",
        "\n",
        "\n"
      ],
      "metadata": {
        "colab": {
          "base_uri": "https://localhost:8080/"
        },
        "id": "_gHGe8FGhl2L",
        "outputId": "a3ba9dd2-24cb-484e-be10-d656e70cf743"
      },
      "execution_count": null,
      "outputs": [
        {
          "output_type": "stream",
          "name": "stdout",
          "text": [
            "Number of circle-like objects detected: 112\n"
          ]
        }
      ]
    },
    {
      "cell_type": "code",
      "source": [
        "#SEM_contrast\n",
        "\n",
        "import cv2\n",
        "import numpy as np\n",
        "\n",
        "\n",
        "def calculate_gray_area(image_path, lower_gray=50, upper_gray=200):\n",
        "    \"\"\"\n",
        "    Calculates the percentage area occupied by pixels within a specified grayscale range.\n",
        "\n",
        "    Args:\n",
        "        image_path: The path to the grayscale image.\n",
        "        lower_gray: The lower bound of the gray range (default: 50).\n",
        "        upper_gray: The upper bound of the gray range (default: 200).\n",
        "\n",
        "    Returns:\n",
        "        A tuple containing:\n",
        "            - The percentage area of the image occupied by gray pixels.\n",
        "            - A binary image where gray pixels are highlighted in white.\n",
        "            - The original grayscale image.\n",
        "    \"\"\"\n",
        "\n",
        "    img = cv2.imread(image_path, cv2.IMREAD_GRAYSCALE)  # Load the image\n",
        "    mask = cv2.inRange(img, lower_gray, upper_gray)\n",
        "    total_pixels = img.size\n",
        "    gray_pixels = np.count_nonzero(mask)\n",
        "    percentage_gray = (gray_pixels / total_pixels) * 100\n",
        "\n",
        "    return percentage_gray, mask, img\n",
        "\n",
        "def visualize_gray_area(img, mask, color=(0, 255, 0)):\n",
        "    \"\"\"\n",
        "    Visualizes the calculated gray area in color.\n",
        "\n",
        "    Args:\n",
        "        img: The original grayscale image.\n",
        "        mask: The binary mask where gray pixels are highlighted.\n",
        "        color: The color to use for highlighting the gray area (BGR format, default: green).\n",
        "    \"\"\"\n",
        "\n",
        "    color_img = cv2.cvtColor(img, cv2.COLOR_GRAY2BGR)  # Convert to color\n",
        "    color_img[mask == 255] = color\n",
        "    cv2.imwrite(\"output_gray_area.jpg\", color_img)\n",
        "\n",
        "image_path = \"/content/drive/MyDrive/Image Processing - Researcher/SEM_contrast/500x-2.jpg\"\n",
        "percentage_area, mask, img = calculate_gray_area(image_path, lower_gray=80, upper_gray=150)\n",
        "\n",
        "print(f\"Percentage area of gray pixels: {percentage_area:.2f}%\")\n",
        "\n",
        "visualize_gray_area(img, mask, color=(0, 0, 255))  # Visualize in red\n",
        "#cv2.imshow(\"Visualized Gray Area\", color_img)\n",
        "#cv2.waitKey(0)\n",
        "#cv2.destroyAllWindows()\n",
        "\n"
      ],
      "metadata": {
        "colab": {
          "base_uri": "https://localhost:8080/"
        },
        "id": "4gvIfnC3K7sx",
        "outputId": "239ae7f2-bf5e-4f6f-d482-327d4fe28cdf"
      },
      "execution_count": null,
      "outputs": [
        {
          "output_type": "stream",
          "name": "stdout",
          "text": [
            "Percentage area of gray pixels: 43.90%\n"
          ]
        }
      ]
    },
    {
      "cell_type": "code",
      "source": [
        "#SEM_color\n",
        "\n",
        "import cv2\n",
        "import numpy as np\n",
        "\n",
        "def calculate_color_area(image_path, lower_color, upper_color):\n",
        "    \"\"\"\n",
        "    Calculates the percentage area occupied by pixels within a specified color range in HSV color space.\n",
        "\n",
        "    Args:\n",
        "        image_path: The path to the image.\n",
        "        lower_color: The lower bound of the color range (HSV format).\n",
        "        upper_color: The upper bound of the color range (HSV format).\n",
        "\n",
        "    Returns:\n",
        "        A tuple containing:\n",
        "            - The percentage area of the image occupied by the specified color.\n",
        "            - A binary image where the specified color pixels are highlighted in white.\n",
        "    \"\"\"\n",
        "\n",
        "    img = cv2.imread(image_path)\n",
        "    hsv_img = cv2.cvtColor(img, cv2.COLOR_BGR2HSV)  # Convert to HSV\n",
        "    mask = cv2.inRange(hsv_img, lower_color, upper_color)\n",
        "    total_pixels = img.size\n",
        "    color_pixels = np.count_nonzero(mask)\n",
        "    percentage_color = (color_pixels / total_pixels) * 100\n",
        "\n",
        "    return percentage_color, mask\n",
        "\n",
        "def visualize_color_area(image_path, percentage, mask, color, output_filename):\n",
        "    \"\"\"\n",
        "    Visualizes the calculated color area on the original image and saves it with the percentage.\n",
        "\n",
        "    Args:\n",
        "        image_path: The path to the image.\n",
        "        percentage: The percentage of the specified color.\n",
        "        mask: The binary mask where color pixels are highlighted.\n",
        "        color: The color to use for highlighting the color area (BGR format).\n",
        "        output_filename: The name of the output file to save the image.\n",
        "    \"\"\"\n",
        "\n",
        "    img = cv2.imread(image_path)\n",
        "    color_img = img.copy()\n",
        "    color_img[mask == 255] = color\n",
        "\n",
        "    # Add text showing the percentage\n",
        "    cv2.putText(color_img, f\"{percentage:.2f}%\", (10, 30), cv2.FONT_HERSHEY_SIMPLEX, 0.8, (255, 255, 255), 2)\n",
        "\n",
        "    cv2.imwrite(output_filename, color_img)\n",
        "\n",
        "image_path = \"/content/drive/MyDrive/Image Processing - Researcher/SEM_color/cropped_SEM_color.JPG\"\n",
        "\n",
        "# Red color range\n",
        "#lower_red = np.array([130, 50, 80])\n",
        "#upper_red = np.array([180, 255, 255])\n",
        "lower_red = np.array([150, 80, 100])\n",
        "upper_red = np.array([180, 255, 255])\n",
        "\n",
        "# Combine masks to get the entire range of reds\n",
        "#img = cv2.imread(image_path)\n",
        "#hsv_img = cv2.cvtColor(img, cv2.COLOR_BGR2HSV)\n",
        "#mask_red1 = cv2.inRange(hsv_img, lower_red1, upper_red1)\n",
        "#mask_red2 = cv2.inRange(hsv_img, lower_red2, upper_red2)\n",
        "#mask_red = cv2.bitwise_or(mask_red1, mask_red2)\n",
        "percentage_red, mask_red = calculate_color_area(image_path, lower_red, upper_red)\n",
        "\n",
        "# Blue color range\n",
        "#lower_blue = np.array([120, 50, 50])\n",
        "#upper_blue = np.array([150, 200, 200])    #this gives 11.45%\n",
        "#lower_blue = np.array([100, 30, 30])\n",
        "#upper_blue = np.array([160, 255, 255])    #this gives 19.38%\n",
        "lower_blue = np.array([100, 30, 0])\n",
        "upper_blue = np.array([170, 255, 255])     #25.82% but not ok\n",
        "percentage_blue, mask_blue = calculate_color_area(image_path, lower_blue, upper_blue)\n",
        "\n",
        "\n",
        "print(f\"Percentage area of red pixels: {percentage_red:.2f}%\")\n",
        "print(f\"Percentage area of blue pixels: {percentage_blue:.2f}%\")\n",
        "\n",
        "# Visualize\n",
        "visualize_color_area(image_path, percentage_red, mask_red, (255, 255, 255), \"output_red_area.jpg\")\n",
        "visualize_color_area(image_path, percentage_blue, mask_blue, (255, 255, 255), \"output_blue_area.jpg\")\n",
        "\n"
      ],
      "metadata": {
        "id": "u-cQTDzim1zI",
        "colab": {
          "base_uri": "https://localhost:8080/"
        },
        "outputId": "6006bc3c-79b9-430f-c120-9ee80f8f3a53"
      },
      "execution_count": 5,
      "outputs": [
        {
          "output_type": "stream",
          "name": "stdout",
          "text": [
            "Percentage area of red pixels: 17.39%\n",
            "Percentage area of blue pixels: 25.82%\n"
          ]
        }
      ]
    },
    {
      "cell_type": "code",
      "source": [
        "mask_red_or_blue = cv2.bitwise_or(mask_red, mask_blue)\\\n",
        "\n",
        "img = cv2.imread(image_path)\n",
        "color_img = img.copy()   # Make a copy of the original image\n",
        "\n",
        "# Set pixels identified by the mask to a specific color (e.g., white)\n",
        "color_img[mask_red_or_blue == 255] = (255, 255, 255)\n",
        "\n",
        "output_filename = \"output_red_or_blue_area.jpg\"\n",
        "cv2.imwrite(output_filename, color_img)"
      ],
      "metadata": {
        "colab": {
          "base_uri": "https://localhost:8080/"
        },
        "id": "WV38DX9mD4CI",
        "outputId": "56a0b1a9-7d29-4376-9258-2e8e1fe0a6b7"
      },
      "execution_count": 2,
      "outputs": [
        {
          "output_type": "execute_result",
          "data": {
            "text/plain": [
              "True"
            ]
          },
          "metadata": {},
          "execution_count": 2
        }
      ]
    },
    {
      "cell_type": "markdown",
      "source": [],
      "metadata": {
        "id": "IZhY1-8YCt5J"
      }
    }
  ]
}